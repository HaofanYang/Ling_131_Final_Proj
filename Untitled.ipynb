{
 "cells": [
  {
   "cell_type": "code",
   "execution_count": 2,
   "metadata": {
    "scrolled": true
   },
   "outputs": [
    {
     "name": "stdout",
     "output_type": "stream",
     "text": [
      "3\n"
     ]
    }
   ],
   "source": [
    "print(3)"
   ]
  },
  {
   "cell_type": "markdown",
   "metadata": {},
   "source": [
    "**Background**\n"
   ]
  },
  {
   "cell_type": "markdown",
   "metadata": {},
   "source": [
    "**Design**"
   ]
  },
  {
   "cell_type": "markdown",
   "metadata": {},
   "source": [
    "Application\n",
    "\n",
    "\n",
    "get_data:\n",
    "    This method downloads data from 20newsgroups api with some chosen categories (computer science, science, electronics, sports). It seperates training set and testing set, returns them afterwards.\n",
    "    \n",
    "    \n",
    "print_data_info:\n",
    "    This method prints type, size, and categories of training set and testing set.\n",
    "    \n",
    "    \n",
    "get_y_data:\n",
    "    This method simply returns the label array of training set and testing set.\n",
    "    \n",
    "    \n",
    "tfidf_data:\n",
    "    It uses TF-IDF to fit training set and testing set, meanwhile saves the trained data to vec.pickle, avoiding training classifiers every time we run the file.\n",
    "    \n",
    "    \n",
    "print_example:\n",
    "    It prints 10 example data in training set with their corrisponding categories.\n",
    "    \n",
    "    \n",
    "print_x_data:\n",
    "    This method prints size and number of features of training set after TF-IDF fit.\n",
    "    \n",
    "    \n",
    "classifier:\n",
    "    This method uses Multinomial Naive Bayes classifier, Bernoulli Naive Bayes classifier, K Neighbors classifier, Ridge Regression classifier, Random Forest classifier, Support Vector Machine classifier to classify training data. It then returns array of results of each classifier including its error rate, training time and testing time.\n",
    "    \n",
    "    \n",
    "test_clf:\n",
    "    This method uses\n",
    "\n",
    "\n",
    "\n",
    "draw:\n",
    "    It uses results from method test_clf to render a diagram to evaluate results of different classifiers by listing the error rate, training time and testing time of each classifier.\n",
    "    \n",
    "\n",
    "    \n"
   ]
  }
 ],
 "metadata": {
  "kernelspec": {
   "display_name": "Python 3",
   "language": "python",
   "name": "python3"
  },
  "language_info": {
   "codemirror_mode": {
    "name": "ipython",
    "version": 3
   },
   "file_extension": ".py",
   "mimetype": "text/x-python",
   "name": "python",
   "nbconvert_exporter": "python",
   "pygments_lexer": "ipython3",
   "version": "3.6.5"
  }
 },
 "nbformat": 4,
 "nbformat_minor": 2
}
