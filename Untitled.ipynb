{
 "cells": [
  {
   "cell_type": "code",
   "execution_count": 2,
   "metadata": {
    "scrolled": true
   },
   "outputs": [
    {
     "name": "stdout",
     "output_type": "stream",
     "text": [
      "3\n"
     ]
    }
   ],
   "source": [
    "print(3)"
   ]
  },
  {
   "cell_type": "markdown",
   "metadata": {},
   "source": [
    "**Background**\n"
   ]
  },
  {
   "cell_type": "markdown",
   "metadata": {},
   "source": [
    "**Design**"
   ]
  },
  {
   "cell_type": "markdown",
   "metadata": {},
   "source": [
    "Application\n",
    "\n",
    "\n",
    "get_data:\n",
    "    download data from 20newsgroups api with some chosen categories, seperate training set and testing set\n",
    "    \n",
    "print_data_info:\n",
    "    print data type, size, and categories of training set and testing set\n",
    "    \n",
    "get_y_data:\n",
    "    simply return the label array of training set and testing set\n",
    "    \n",
    "tfidf_data:\n",
    "    use TF-IDF to fit training set and testing set, meanwhile save the trained data to vec.pickle\n",
    "    \n",
    "print_example:\n",
    "    print 10 example data in training set with their corrisponding categories\n",
    "    \n",
    "print_x_data:\n",
    "    \n",
    "    \n"
   ]
  }
 ],
 "metadata": {
  "kernelspec": {
   "display_name": "Python 3",
   "language": "python",
   "name": "python3"
  },
  "language_info": {
   "codemirror_mode": {
    "name": "ipython",
    "version": 3
   },
   "file_extension": ".py",
   "mimetype": "text/x-python",
   "name": "python",
   "nbconvert_exporter": "python",
   "pygments_lexer": "ipython3",
   "version": "3.6.5"
  }
 },
 "nbformat": 4,
 "nbformat_minor": 2
}
