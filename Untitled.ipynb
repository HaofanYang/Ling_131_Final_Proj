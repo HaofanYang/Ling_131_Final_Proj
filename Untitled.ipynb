{
 "cells": [
  {
   "cell_type": "code",
   "execution_count": 2,
   "metadata": {
    "scrolled": true
   },
   "outputs": [
    {
     "name": "stdout",
     "output_type": "stream",
     "text": [
      "3\n"
     ]
    }
   ],
   "source": [
    "print(3)"
   ]
  },
  {
   "cell_type": "markdown",
   "metadata": {},
   "source": [
    "**Background**\n"
   ]
  },
  {
   "cell_type": "markdown",
   "metadata": {},
   "source": [
    "**Design**"
   ]
  },
  {
   "cell_type": "markdown",
   "metadata": {},
   "source": [
    "Application\n",
    "\n",
    "\n",
    "get_data:\n",
    "    Download data from 20newsgroups api with some chosen categories. Seperate training set and testing set.\n",
    "    \n",
    "print_data_info:\n",
    "    Print type, size, and categories of training set and testing set.\n",
    "    \n",
    "get_y_data:\n",
    "    Simply return the label array of training set and testing set.\n",
    "    \n",
    "tfidf_data:\n",
    "    Use TF-IDF to fit training set and testing set, meanwhile save the trained data to vec.pickle.\n",
    "    \n",
    "print_example:\n",
    "    Print 10 example data in training set with their corrisponding categories.\n",
    "    \n",
    "print_x_data:\n",
    "    Print size and number of features of training set after TF-IDF fit.\n",
    "    \n",
    "classifier:\n",
    "    Use Multinomial Naive Bayes classifier, Bernoulli Naive Bayes classifier, K Neighbors classifier, Ridge Regression classifier, Random Forest classifier, Support Vector Machine classifier to classify training data and return array of result including error rate, training time and testing time.\n",
    "    \n",
    "test_clf:\n",
    "\n",
    "\n",
    "draw:\n",
    "    Use results from method test_clf to render a diagram to evaluate results of different classifiers by listing the error rate, training time and testing time of each classifier.\n",
    "    \n",
    "    \n"
   ]
  }
 ],
 "metadata": {
  "kernelspec": {
   "display_name": "Python 3",
   "language": "python",
   "name": "python3"
  },
  "language_info": {
   "codemirror_mode": {
    "name": "ipython",
    "version": 3
   },
   "file_extension": ".py",
   "mimetype": "text/x-python",
   "name": "python",
   "nbconvert_exporter": "python",
   "pygments_lexer": "ipython3",
   "version": "3.6.5"
  }
 },
 "nbformat": 4,
 "nbformat_minor": 2
}
